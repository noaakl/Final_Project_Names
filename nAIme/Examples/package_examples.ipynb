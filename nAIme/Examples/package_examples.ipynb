{
  "nbformat": 4,
  "nbformat_minor": 0,
  "metadata": {
    "colab": {
      "name": "nAIme_package.ipynb",
      "provenance": [],
      "collapsed_sections": []
    },
    "kernelspec": {
      "name": "python3",
      "display_name": "Python 3"
    },
    "language_info": {
      "name": "python"
    }
  },
  "cells": [
    {
      "cell_type": "code",
      "execution_count": null,
      "metadata": {
        "colab": {
          "base_uri": "https://localhost:8080/"
        },
        "id": "4IJNvAkjU3-R",
        "outputId": "5dd9a652-4217-4220-da3e-de5279d81fa4"
      },
      "outputs": [
        {
          "output_type": "stream",
          "name": "stdout",
          "text": [
            "Reading package lists... Done\n",
            "Building dependency tree       \n",
            "Reading state information... Done\n",
            "ffmpeg is already the newest version (7:3.4.11-0ubuntu0.1).\n",
            "The following package was automatically installed and is no longer required:\n",
            "  libnvidia-common-460\n",
            "Use 'apt autoremove' to remove it.\n",
            "0 upgraded, 0 newly installed, 0 to remove and 62 not upgraded.\n",
            "Looking in indexes: https://pypi.org/simple, https://us-python.pkg.dev/colab-wheels/public/simple/\n",
            "Requirement already satisfied: nAIme in /usr/local/lib/python3.7/dist-packages (0.0.1)\n",
            "Requirement already satisfied: py7zr in /usr/local/lib/python3.7/dist-packages (from nAIme) (0.19.0)\n",
            "Requirement already satisfied: editdistance in /usr/local/lib/python3.7/dist-packages (from nAIme) (0.5.3)\n",
            "Requirement already satisfied: pandas in /usr/local/lib/python3.7/dist-packages (from nAIme) (1.3.5)\n",
            "Requirement already satisfied: pyAudioAnalysis in /usr/local/lib/python3.7/dist-packages (from nAIme) (0.3.14)\n",
            "Requirement already satisfied: patool in /usr/local/lib/python3.7/dist-packages (from nAIme) (1.12)\n",
            "Requirement already satisfied: pydub in /usr/local/lib/python3.7/dist-packages (from nAIme) (0.25.1)\n",
            "Requirement already satisfied: networkx in /usr/local/lib/python3.7/dist-packages (from nAIme) (2.6.3)\n",
            "Requirement already satisfied: eyed3 in /usr/local/lib/python3.7/dist-packages (from nAIme) (0.9.6)\n",
            "Requirement already satisfied: pyunpack in /usr/local/lib/python3.7/dist-packages (from nAIme) (0.3)\n",
            "Requirement already satisfied: jellyfish in /usr/local/lib/python3.7/dist-packages (from nAIme) (0.9.0)\n",
            "Requirement already satisfied: tqdm in /usr/local/lib/python3.7/dist-packages (from nAIme) (4.64.0)\n",
            "Requirement already satisfied: gtts in /usr/local/lib/python3.7/dist-packages (from nAIme) (2.2.4)\n",
            "Requirement already satisfied: turicreate in /usr/local/lib/python3.7/dist-packages (from nAIme) (6.4.1)\n",
            "Requirement already satisfied: matplotlib in /usr/local/lib/python3.7/dist-packages (from nAIme) (3.2.2)\n",
            "Requirement already satisfied: requests in /usr/local/lib/python3.7/dist-packages (from nAIme) (2.23.0)\n",
            "Requirement already satisfied: phonetics in /usr/local/lib/python3.7/dist-packages (from nAIme) (1.0.5)\n",
            "Requirement already satisfied: importlib-resources in /usr/local/lib/python3.7/dist-packages (from nAIme) (5.7.1)\n",
            "Requirement already satisfied: deprecation<3.0.0,>=2.1.0 in /usr/local/lib/python3.7/dist-packages (from eyed3->nAIme) (2.1.0)\n",
            "Requirement already satisfied: coverage[toml]<6.0.0,>=5.3.1 in /usr/local/lib/python3.7/dist-packages (from eyed3->nAIme) (5.5)\n",
            "Requirement already satisfied: filetype<2.0.0,>=1.0.7 in /usr/local/lib/python3.7/dist-packages (from eyed3->nAIme) (1.0.13)\n",
            "Requirement already satisfied: toml in /usr/local/lib/python3.7/dist-packages (from coverage[toml]<6.0.0,>=5.3.1->eyed3->nAIme) (0.10.2)\n",
            "Requirement already satisfied: packaging in /usr/local/lib/python3.7/dist-packages (from deprecation<3.0.0,>=2.1.0->eyed3->nAIme) (21.3)\n",
            "Requirement already satisfied: click in /usr/local/lib/python3.7/dist-packages (from gtts->nAIme) (7.1.2)\n",
            "Requirement already satisfied: six in /usr/local/lib/python3.7/dist-packages (from gtts->nAIme) (1.15.0)\n",
            "Requirement already satisfied: zipp>=3.1.0 in /usr/local/lib/python3.7/dist-packages (from importlib-resources->nAIme) (3.8.0)\n",
            "Requirement already satisfied: cycler>=0.10 in /usr/local/lib/python3.7/dist-packages (from matplotlib->nAIme) (0.11.0)\n",
            "Requirement already satisfied: kiwisolver>=1.0.1 in /usr/local/lib/python3.7/dist-packages (from matplotlib->nAIme) (1.4.3)\n",
            "Requirement already satisfied: python-dateutil>=2.1 in /usr/local/lib/python3.7/dist-packages (from matplotlib->nAIme) (2.8.2)\n",
            "Requirement already satisfied: pyparsing!=2.0.4,!=2.1.2,!=2.1.6,>=2.0.1 in /usr/local/lib/python3.7/dist-packages (from matplotlib->nAIme) (3.0.9)\n",
            "Requirement already satisfied: numpy>=1.11 in /usr/local/lib/python3.7/dist-packages (from matplotlib->nAIme) (1.18.5)\n",
            "Requirement already satisfied: typing-extensions in /usr/local/lib/python3.7/dist-packages (from kiwisolver>=1.0.1->matplotlib->nAIme) (4.1.1)\n",
            "Requirement already satisfied: pytz>=2017.3 in /usr/local/lib/python3.7/dist-packages (from pandas->nAIme) (2022.1)\n",
            "Requirement already satisfied: pycryptodomex>=3.6.6 in /usr/local/lib/python3.7/dist-packages (from py7zr->nAIme) (3.15.0)\n",
            "Requirement already satisfied: pyzstd>=0.14.4 in /usr/local/lib/python3.7/dist-packages (from py7zr->nAIme) (0.15.2)\n",
            "Requirement already satisfied: pybcj>=0.6.0 in /usr/local/lib/python3.7/dist-packages (from py7zr->nAIme) (0.6.1)\n",
            "Requirement already satisfied: texttable in /usr/local/lib/python3.7/dist-packages (from py7zr->nAIme) (1.6.4)\n",
            "Requirement already satisfied: importlib-metadata in /usr/local/lib/python3.7/dist-packages (from py7zr->nAIme) (4.11.4)\n",
            "Requirement already satisfied: inflate64>=0.1.2 in /usr/local/lib/python3.7/dist-packages (from py7zr->nAIme) (0.1.3)\n",
            "Requirement already satisfied: psutil in /usr/local/lib/python3.7/dist-packages (from py7zr->nAIme) (5.4.8)\n",
            "Requirement already satisfied: pyppmd<0.19.0,>=0.18.1 in /usr/local/lib/python3.7/dist-packages (from py7zr->nAIme) (0.18.3)\n",
            "Requirement already satisfied: multivolumefile>=0.2.3 in /usr/local/lib/python3.7/dist-packages (from py7zr->nAIme) (0.2.3)\n",
            "Requirement already satisfied: brotli>=1.0.9 in /usr/local/lib/python3.7/dist-packages (from py7zr->nAIme) (1.0.9)\n",
            "Requirement already satisfied: entrypoint2 in /usr/local/lib/python3.7/dist-packages (from pyunpack->nAIme) (1.1)\n",
            "Requirement already satisfied: easyprocess in /usr/local/lib/python3.7/dist-packages (from pyunpack->nAIme) (1.1)\n",
            "Requirement already satisfied: chardet<4,>=3.0.2 in /usr/local/lib/python3.7/dist-packages (from requests->nAIme) (3.0.4)\n",
            "Requirement already satisfied: idna<3,>=2.5 in /usr/local/lib/python3.7/dist-packages (from requests->nAIme) (2.10)\n",
            "Requirement already satisfied: urllib3!=1.25.0,!=1.25.1,<1.26,>=1.21.1 in /usr/local/lib/python3.7/dist-packages (from requests->nAIme) (1.24.3)\n",
            "Requirement already satisfied: certifi>=2017.4.17 in /usr/local/lib/python3.7/dist-packages (from requests->nAIme) (2022.6.15)\n",
            "Requirement already satisfied: prettytable==0.7.2 in /usr/local/lib/python3.7/dist-packages (from turicreate->nAIme) (0.7.2)\n",
            "Requirement already satisfied: resampy==0.2.1 in /usr/local/lib/python3.7/dist-packages (from turicreate->nAIme) (0.2.1)\n",
            "Requirement already satisfied: scipy>=1.1.0 in /usr/local/lib/python3.7/dist-packages (from turicreate->nAIme) (1.4.1)\n",
            "Requirement already satisfied: decorator>=4.0.9 in /usr/local/lib/python3.7/dist-packages (from turicreate->nAIme) (4.4.2)\n",
            "Requirement already satisfied: pillow>=5.2.0 in /usr/local/lib/python3.7/dist-packages (from turicreate->nAIme) (7.1.2)\n",
            "Requirement already satisfied: numba<0.51.0 in /usr/local/lib/python3.7/dist-packages (from turicreate->nAIme) (0.50.1)\n",
            "Requirement already satisfied: coremltools==3.3 in /usr/local/lib/python3.7/dist-packages (from turicreate->nAIme) (3.3)\n",
            "Requirement already satisfied: tensorflow<2.1.0,>=2.0.0 in /usr/local/lib/python3.7/dist-packages (from turicreate->nAIme) (2.0.4)\n",
            "Requirement already satisfied: protobuf>=3.1.0 in /usr/local/lib/python3.7/dist-packages (from coremltools==3.3->turicreate->nAIme) (3.17.3)\n",
            "Requirement already satisfied: llvmlite<0.34,>=0.33.0.dev0 in /usr/local/lib/python3.7/dist-packages (from numba<0.51.0->turicreate->nAIme) (0.33.0)\n",
            "Requirement already satisfied: setuptools in /usr/local/lib/python3.7/dist-packages (from numba<0.51.0->turicreate->nAIme) (57.4.0)\n",
            "Requirement already satisfied: opt-einsum>=2.3.2 in /usr/local/lib/python3.7/dist-packages (from tensorflow<2.1.0,>=2.0.0->turicreate->nAIme) (3.3.0)\n",
            "Requirement already satisfied: h5py<=2.10.0 in /usr/local/lib/python3.7/dist-packages (from tensorflow<2.1.0,>=2.0.0->turicreate->nAIme) (2.10.0)\n",
            "Requirement already satisfied: absl-py>=0.7.0 in /usr/local/lib/python3.7/dist-packages (from tensorflow<2.1.0,>=2.0.0->turicreate->nAIme) (1.1.0)\n",
            "Requirement already satisfied: wrapt>=1.11.1 in /usr/local/lib/python3.7/dist-packages (from tensorflow<2.1.0,>=2.0.0->turicreate->nAIme) (1.14.1)\n",
            "Requirement already satisfied: astor>=0.6.0 in /usr/local/lib/python3.7/dist-packages (from tensorflow<2.1.0,>=2.0.0->turicreate->nAIme) (0.8.1)\n",
            "Requirement already satisfied: gast==0.2.2 in /usr/local/lib/python3.7/dist-packages (from tensorflow<2.1.0,>=2.0.0->turicreate->nAIme) (0.2.2)\n",
            "Requirement already satisfied: tensorboard<2.1.0,>=2.0.0 in /usr/local/lib/python3.7/dist-packages (from tensorflow<2.1.0,>=2.0.0->turicreate->nAIme) (2.0.2)\n",
            "Requirement already satisfied: google-pasta>=0.1.6 in /usr/local/lib/python3.7/dist-packages (from tensorflow<2.1.0,>=2.0.0->turicreate->nAIme) (0.2.0)\n",
            "Requirement already satisfied: keras-preprocessing>=1.0.5 in /usr/local/lib/python3.7/dist-packages (from tensorflow<2.1.0,>=2.0.0->turicreate->nAIme) (1.1.2)\n",
            "Requirement already satisfied: termcolor>=1.1.0 in /usr/local/lib/python3.7/dist-packages (from tensorflow<2.1.0,>=2.0.0->turicreate->nAIme) (1.1.0)\n",
            "Requirement already satisfied: keras-applications>=1.0.8 in /usr/local/lib/python3.7/dist-packages (from tensorflow<2.1.0,>=2.0.0->turicreate->nAIme) (1.0.8)\n",
            "Requirement already satisfied: tensorflow-estimator<2.1.0,>=2.0.0 in /usr/local/lib/python3.7/dist-packages (from tensorflow<2.1.0,>=2.0.0->turicreate->nAIme) (2.0.1)\n",
            "Requirement already satisfied: grpcio>=1.8.6 in /usr/local/lib/python3.7/dist-packages (from tensorflow<2.1.0,>=2.0.0->turicreate->nAIme) (1.46.3)\n",
            "Requirement already satisfied: wheel>=0.26 in /usr/local/lib/python3.7/dist-packages (from tensorflow<2.1.0,>=2.0.0->turicreate->nAIme) (0.37.1)\n",
            "Requirement already satisfied: markdown>=2.6.8 in /usr/local/lib/python3.7/dist-packages (from tensorboard<2.1.0,>=2.0.0->tensorflow<2.1.0,>=2.0.0->turicreate->nAIme) (3.3.7)\n",
            "Requirement already satisfied: werkzeug>=0.11.15 in /usr/local/lib/python3.7/dist-packages (from tensorboard<2.1.0,>=2.0.0->tensorflow<2.1.0,>=2.0.0->turicreate->nAIme) (1.0.1)\n",
            "Requirement already satisfied: google-auth-oauthlib<0.5,>=0.4.1 in /usr/local/lib/python3.7/dist-packages (from tensorboard<2.1.0,>=2.0.0->tensorflow<2.1.0,>=2.0.0->turicreate->nAIme) (0.4.6)\n",
            "Requirement already satisfied: google-auth<2,>=1.6.3 in /usr/local/lib/python3.7/dist-packages (from tensorboard<2.1.0,>=2.0.0->tensorflow<2.1.0,>=2.0.0->turicreate->nAIme) (1.35.0)\n",
            "Requirement already satisfied: cachetools<5.0,>=2.0.0 in /usr/local/lib/python3.7/dist-packages (from google-auth<2,>=1.6.3->tensorboard<2.1.0,>=2.0.0->tensorflow<2.1.0,>=2.0.0->turicreate->nAIme) (4.2.4)\n",
            "Requirement already satisfied: pyasn1-modules>=0.2.1 in /usr/local/lib/python3.7/dist-packages (from google-auth<2,>=1.6.3->tensorboard<2.1.0,>=2.0.0->tensorflow<2.1.0,>=2.0.0->turicreate->nAIme) (0.2.8)\n",
            "Requirement already satisfied: rsa<5,>=3.1.4 in /usr/local/lib/python3.7/dist-packages (from google-auth<2,>=1.6.3->tensorboard<2.1.0,>=2.0.0->tensorflow<2.1.0,>=2.0.0->turicreate->nAIme) (4.8)\n",
            "Requirement already satisfied: requests-oauthlib>=0.7.0 in /usr/local/lib/python3.7/dist-packages (from google-auth-oauthlib<0.5,>=0.4.1->tensorboard<2.1.0,>=2.0.0->tensorflow<2.1.0,>=2.0.0->turicreate->nAIme) (1.3.1)\n",
            "Requirement already satisfied: pyasn1<0.5.0,>=0.4.6 in /usr/local/lib/python3.7/dist-packages (from pyasn1-modules>=0.2.1->google-auth<2,>=1.6.3->tensorboard<2.1.0,>=2.0.0->tensorflow<2.1.0,>=2.0.0->turicreate->nAIme) (0.4.8)\n",
            "Requirement already satisfied: oauthlib>=3.0.0 in /usr/local/lib/python3.7/dist-packages (from requests-oauthlib>=0.7.0->google-auth-oauthlib<0.5,>=0.4.1->tensorboard<2.1.0,>=2.0.0->tensorflow<2.1.0,>=2.0.0->turicreate->nAIme) (3.2.0)\n"
          ]
        }
      ],
      "source": [
        "# nAIme open source package is part of \"Name Search\" part of \"Name Search\" final\n",
        "# project in the department of Software and Information Systems Engineering in \n",
        "# Ben Gurion University of the Negev, Israel.\n",
        "# For more information see https://github.com/noaakl/nAIme\n",
        "\n",
        "# install nAIme open source package from https://pypi.org/project/nAIme/\n",
        "!apt install ffmpeg\n",
        "!pip install nAIme"
      ]
    },
    {
      "cell_type": "code",
      "source": [
        "# import package\n",
        "import nAIme.get_suggestion"
      ],
      "metadata": {
        "id": "UvekVdPuVBDw"
      },
      "execution_count": null,
      "outputs": []
    },
    {
      "cell_type": "code",
      "source": [
        "# find alternative name suggestions for a given name, for example: \"Anny\"\n",
        "name = 'James'\n",
        "\n",
        "# using spokenname2vec algorithm\n",
        "spokenname2vec_suggestions = nAIme.get_suggestion.spokenname2vec(name)\n",
        "print(spokenname2vec_suggestions)"
      ],
      "metadata": {
        "colab": {
          "base_uri": "https://localhost:8080/"
        },
        "id": "Ez2yxMq8VOfI",
        "outputId": "7167a4d9-3754-4c35-8b4c-112ee61a9422"
      },
      "execution_count": null,
      "outputs": [
        {
          "output_type": "stream",
          "name": "stdout",
          "text": [
            "['Jeames', 'Jaems', 'Jeams']\n"
          ]
        }
      ]
    },
    {
      "cell_type": "code",
      "source": [
        "# using Graft algorithm\n",
        "graft_suggestions = nAIme.get_suggestion.graft(name)\n",
        "print(graft_suggestions)"
      ],
      "metadata": {
        "colab": {
          "base_uri": "https://localhost:8080/",
          "height": 1000
        },
        "id": "W6eeW5y3YBic",
        "outputId": "31760b7d-cd36-4182-dda1-af3d42a10404"
      },
      "execution_count": null,
      "outputs": [
        {
          "output_type": "display_data",
          "data": {
            "text/plain": [
              "Finished parsing file /usr/local/lib/python3.7/dist-packages/nAIme/GRAFT/RelevantFiles/wt_First_Name_Child_GreatGrandfather_stacked_no_prefix_ed_geq_2_chars_ED_1_2_child_ancestors_geq_10_occur.csv"
            ],
            "text/html": [
              "<pre>Finished parsing file /usr/local/lib/python3.7/dist-packages/nAIme/GRAFT/RelevantFiles/wt_First_Name_Child_GreatGrandfather_stacked_no_prefix_ed_geq_2_chars_ED_1_2_child_ancestors_geq_10_occur.csv</pre>"
            ]
          },
          "metadata": {}
        },
        {
          "output_type": "display_data",
          "data": {
            "text/plain": [
              "Parsing completed. Parsed 100 lines in 0.025863 secs."
            ],
            "text/html": [
              "<pre>Parsing completed. Parsed 100 lines in 0.025863 secs.</pre>"
            ]
          },
          "metadata": {}
        },
        {
          "output_type": "stream",
          "name": "stdout",
          "text": [
            "------------------------------------------------------\n",
            "Inferred types from first 100 line(s) of file as \n",
            "column_type_hints=[str,str,int,int]\n",
            "If parsing fails due to incorrect types, you can correct\n",
            "the inferred type list above and pass it to read_csv in\n",
            "the column_type_hints argument\n",
            "------------------------------------------------------\n"
          ]
        },
        {
          "output_type": "display_data",
          "data": {
            "text/plain": [
              "Finished parsing file /usr/local/lib/python3.7/dist-packages/nAIme/GRAFT/RelevantFiles/wt_First_Name_Child_GreatGrandfather_stacked_no_prefix_ed_geq_2_chars_ED_1_2_child_ancestors_geq_10_occur.csv"
            ],
            "text/html": [
              "<pre>Finished parsing file /usr/local/lib/python3.7/dist-packages/nAIme/GRAFT/RelevantFiles/wt_First_Name_Child_GreatGrandfather_stacked_no_prefix_ed_geq_2_chars_ED_1_2_child_ancestors_geq_10_occur.csv</pre>"
            ]
          },
          "metadata": {}
        },
        {
          "output_type": "display_data",
          "data": {
            "text/plain": [
              "Parsing completed. Parsed 4536 lines in 0.021731 secs."
            ],
            "text/html": [
              "<pre>Parsing completed. Parsed 4536 lines in 0.021731 secs.</pre>"
            ]
          },
          "metadata": {}
        },
        {
          "output_type": "stream",
          "name": "stderr",
          "text": [
            "\r0it [00:00, ?it/s]/usr/local/lib/python3.7/dist-packages/nAIme/GRAFT/GRAFT_Create_Suggestions_for_Family_Trees_Graphs_Using_Ordering_Functions_for_package.py:248: SettingWithCopyWarning: \n",
            "A value is trying to be set on a copy of a slice from a DataFrame.\n",
            "Try using .loc[row_indexer,col_indexer] = value instead\n",
            "\n",
            "See the caveats in the documentation: https://pandas.pydata.org/pandas-docs/stable/user_guide/indexing.html#returning-a-view-versus-a-copy\n",
            "  lambda x: calculate_edit_distance(x[\"Original\"], x[\"Candidate\"]), axis=1)\n",
            "/usr/local/lib/python3.7/dist-packages/nAIme/GRAFT/GRAFT_Create_Suggestions_for_Family_Trees_Graphs_Using_Ordering_Functions_for_package.py:250: SettingWithCopyWarning: \n",
            "A value is trying to be set on a copy of a slice from a DataFrame.\n",
            "Try using .loc[row_indexer,col_indexer] = value instead\n",
            "\n",
            "See the caveats in the documentation: https://pandas.pydata.org/pandas-docs/stable/user_guide/indexing.html#returning-a-view-versus-a-copy\n",
            "  lambda x: rank_candidate_ED_and_order(x[\"Edit_Distance\"], x[\"Order\"]), axis=1)\n",
            "3it [00:44, 15.98s/it]/usr/local/lib/python3.7/dist-packages/nAIme/GRAFT/GRAFT_Create_Suggestions_for_Family_Trees_Graphs_Using_Ordering_Functions_for_package.py:275: SettingWithCopyWarning: \n",
            "A value is trying to be set on a copy of a slice from a DataFrame.\n",
            "Try using .loc[row_indexer,col_indexer] = value instead\n",
            "\n",
            "See the caveats in the documentation: https://pandas.pydata.org/pandas-docs/stable/user_guide/indexing.html#returning-a-view-versus-a-copy\n",
            "  axis=1)\n",
            "/usr/local/lib/python3.7/dist-packages/nAIme/GRAFT/GRAFT_Create_Suggestions_for_Family_Trees_Graphs_Using_Ordering_Functions_for_package.py:280: SettingWithCopyWarning: \n",
            "A value is trying to be set on a copy of a slice from a DataFrame.\n",
            "Try using .loc[row_indexer,col_indexer] = value instead\n",
            "\n",
            "See the caveats in the documentation: https://pandas.pydata.org/pandas-docs/stable/user_guide/indexing.html#returning-a-view-versus-a-copy\n",
            "  axis=1))\n",
            "/usr/local/lib/python3.7/dist-packages/nAIme/GRAFT/GRAFT_Create_Suggestions_for_Family_Trees_Graphs_Using_Ordering_Functions_for_package.py:284: SettingWithCopyWarning: \n",
            "A value is trying to be set on a copy of a slice from a DataFrame.\n",
            "Try using .loc[row_indexer,col_indexer] = value instead\n",
            "\n",
            "See the caveats in the documentation: https://pandas.pydata.org/pandas-docs/stable/user_guide/indexing.html#returning-a-view-versus-a-copy\n",
            "  axis=1))\n",
            "/usr/local/lib/python3.7/dist-packages/nAIme/GRAFT/GRAFT_Create_Suggestions_for_Family_Trees_Graphs_Using_Ordering_Functions_for_package.py:288: SettingWithCopyWarning: \n",
            "A value is trying to be set on a copy of a slice from a DataFrame.\n",
            "Try using .loc[row_indexer,col_indexer] = value instead\n",
            "\n",
            "See the caveats in the documentation: https://pandas.pydata.org/pandas-docs/stable/user_guide/indexing.html#returning-a-view-versus-a-copy\n",
            "  axis=1)\n",
            "/usr/local/lib/python3.7/dist-packages/nAIme/GRAFT/GRAFT_Create_Suggestions_for_Family_Trees_Graphs_Using_Ordering_Functions_for_package.py:292: SettingWithCopyWarning: \n",
            "A value is trying to be set on a copy of a slice from a DataFrame.\n",
            "Try using .loc[row_indexer,col_indexer] = value instead\n",
            "\n",
            "See the caveats in the documentation: https://pandas.pydata.org/pandas-docs/stable/user_guide/indexing.html#returning-a-view-versus-a-copy\n",
            "  axis=1)\n",
            "/usr/local/lib/python3.7/dist-packages/nAIme/GRAFT/GRAFT_Create_Suggestions_for_Family_Trees_Graphs_Using_Ordering_Functions_for_package.py:297: SettingWithCopyWarning: \n",
            "A value is trying to be set on a copy of a slice from a DataFrame.\n",
            "Try using .loc[row_indexer,col_indexer] = value instead\n",
            "\n",
            "See the caveats in the documentation: https://pandas.pydata.org/pandas-docs/stable/user_guide/indexing.html#returning-a-view-versus-a-copy\n",
            "  axis=1)\n",
            "/usr/local/lib/python3.7/dist-packages/nAIme/GRAFT/GRAFT_Create_Suggestions_for_Family_Trees_Graphs_Using_Ordering_Functions_for_package.py:301: SettingWithCopyWarning: \n",
            "A value is trying to be set on a copy of a slice from a DataFrame.\n",
            "Try using .loc[row_indexer,col_indexer] = value instead\n",
            "\n",
            "See the caveats in the documentation: https://pandas.pydata.org/pandas-docs/stable/user_guide/indexing.html#returning-a-view-versus-a-copy\n",
            "  axis=1)\n",
            "/usr/local/lib/python3.7/dist-packages/nAIme/GRAFT/GRAFT_Create_Suggestions_for_Family_Trees_Graphs_Using_Ordering_Functions_for_package.py:308: SettingWithCopyWarning: \n",
            "A value is trying to be set on a copy of a slice from a DataFrame.\n",
            "Try using .loc[row_indexer,col_indexer] = value instead\n",
            "\n",
            "See the caveats in the documentation: https://pandas.pydata.org/pandas-docs/stable/user_guide/indexing.html#returning-a-view-versus-a-copy\n",
            "  axis=1)\n",
            "/usr/local/lib/python3.7/dist-packages/nAIme/GRAFT/GRAFT_Create_Suggestions_for_Family_Trees_Graphs_Using_Ordering_Functions_for_package.py:312: SettingWithCopyWarning: \n",
            "A value is trying to be set on a copy of a slice from a DataFrame.\n",
            "Try using .loc[row_indexer,col_indexer] = value instead\n",
            "\n",
            "See the caveats in the documentation: https://pandas.pydata.org/pandas-docs/stable/user_guide/indexing.html#returning-a-view-versus-a-copy\n",
            "  axis=1)\n",
            "4it [01:01, 15.47s/it]\n"
          ]
        },
        {
          "output_type": "display_data",
          "data": {
            "text/plain": [
              "Finished parsing file /usr/local/lib/python3.7/dist-packages/nAIme/GRAFT/RelevantFiles/wt_First_Name_Child_GreatGrandfather_stacked_no_prefix_ed_geq_2_chars_ED_1_2_child_ancestors_geq_10_occur.csv"
            ],
            "text/html": [
              "<pre>Finished parsing file /usr/local/lib/python3.7/dist-packages/nAIme/GRAFT/RelevantFiles/wt_First_Name_Child_GreatGrandfather_stacked_no_prefix_ed_geq_2_chars_ED_1_2_child_ancestors_geq_10_occur.csv</pre>"
            ]
          },
          "metadata": {}
        },
        {
          "output_type": "display_data",
          "data": {
            "text/plain": [
              "Parsing completed. Parsed 100 lines in 0.025604 secs."
            ],
            "text/html": [
              "<pre>Parsing completed. Parsed 100 lines in 0.025604 secs.</pre>"
            ]
          },
          "metadata": {}
        },
        {
          "output_type": "stream",
          "name": "stdout",
          "text": [
            "------------------------------------------------------\n",
            "Inferred types from first 100 line(s) of file as \n",
            "column_type_hints=[str,str,int,int]\n",
            "If parsing fails due to incorrect types, you can correct\n",
            "the inferred type list above and pass it to read_csv in\n",
            "the column_type_hints argument\n",
            "------------------------------------------------------\n"
          ]
        },
        {
          "output_type": "display_data",
          "data": {
            "text/plain": [
              "Finished parsing file /usr/local/lib/python3.7/dist-packages/nAIme/GRAFT/RelevantFiles/wt_First_Name_Child_GreatGrandfather_stacked_no_prefix_ed_geq_2_chars_ED_1_2_child_ancestors_geq_10_occur.csv"
            ],
            "text/html": [
              "<pre>Finished parsing file /usr/local/lib/python3.7/dist-packages/nAIme/GRAFT/RelevantFiles/wt_First_Name_Child_GreatGrandfather_stacked_no_prefix_ed_geq_2_chars_ED_1_2_child_ancestors_geq_10_occur.csv</pre>"
            ]
          },
          "metadata": {}
        },
        {
          "output_type": "display_data",
          "data": {
            "text/plain": [
              "Parsing completed. Parsed 4536 lines in 0.018886 secs."
            ],
            "text/html": [
              "<pre>Parsing completed. Parsed 4536 lines in 0.018886 secs.</pre>"
            ]
          },
          "metadata": {}
        },
        {
          "output_type": "stream",
          "name": "stderr",
          "text": [
            "1it [00:05,  5.47s/it]/usr/local/lib/python3.7/dist-packages/nAIme/GRAFT/GRAFT_Create_Suggestions_for_Family_Trees_Graphs_Using_Ordering_Functions_for_package.py:219: SettingWithCopyWarning: \n",
            "A value is trying to be set on a copy of a slice from a DataFrame.\n",
            "Try using .loc[row_indexer,col_indexer] = value instead\n",
            "\n",
            "See the caveats in the documentation: https://pandas.pydata.org/pandas-docs/stable/user_guide/indexing.html#returning-a-view-versus-a-copy\n",
            "  lambda x: calculate_edit_distance(x[\"Original\"], x[\"Candidate\"]), axis=1)\n",
            "/usr/local/lib/python3.7/dist-packages/nAIme/GRAFT/GRAFT_Create_Suggestions_for_Family_Trees_Graphs_Using_Ordering_Functions_for_package.py:221: SettingWithCopyWarning: \n",
            "A value is trying to be set on a copy of a slice from a DataFrame.\n",
            "Try using .loc[row_indexer,col_indexer] = value instead\n",
            "\n",
            "See the caveats in the documentation: https://pandas.pydata.org/pandas-docs/stable/user_guide/indexing.html#returning-a-view-versus-a-copy\n",
            "  lambda x: calculate_shortest_path(x[\"Original\"], x[\"Candidate\"], name_graph), axis=1)\n",
            "/usr/local/lib/python3.7/dist-packages/nAIme/GRAFT/GRAFT_Create_Suggestions_for_Family_Trees_Graphs_Using_Ordering_Functions_for_package.py:224: SettingWithCopyWarning: \n",
            "A value is trying to be set on a copy of a slice from a DataFrame.\n",
            "Try using .loc[row_indexer,col_indexer] = value instead\n",
            "\n",
            "See the caveats in the documentation: https://pandas.pydata.org/pandas-docs/stable/user_guide/indexing.html#returning-a-view-versus-a-copy\n",
            "  axis=1)\n",
            "4it [00:59, 14.80s/it]"
          ]
        },
        {
          "output_type": "stream",
          "name": "stdout",
          "text": [
            "['Amos', 'Agns', 'Amey', 'Jns', 'Asa', 'Amy', 'Joannes', 'Janice', 'Annes', 'Annis']\n"
          ]
        },
        {
          "output_type": "stream",
          "name": "stderr",
          "text": [
            "\n"
          ]
        }
      ]
    },
    {
      "cell_type": "code",
      "source": [
        "# using Soundex algorithm\n",
        "soundex_suggestions = nAIme.get_suggestion.soundex(name)\n",
        "print(soundex_suggestions)"
      ],
      "metadata": {
        "id": "YbU2czvHYJc3",
        "colab": {
          "base_uri": "https://localhost:8080/"
        },
        "outputId": "aac989f6-2a60-453b-889f-abb1ea48105d"
      },
      "execution_count": null,
      "outputs": [
        {
          "output_type": "stream",
          "name": "stdout",
          "text": [
            "['Jaemes', 'Jaimes', 'Jameas', 'Jamesj', 'Jamess', 'Jamesy', 'Jamis', 'Jams', 'Janes', 'Jeames']\n"
          ]
        },
        {
          "output_type": "stream",
          "name": "stderr",
          "text": [
            "/usr/local/lib/python3.7/dist-packages/nAIme/Phonetic/phonetic_suggestion.py:22: SettingWithCopyWarning: \n",
            "A value is trying to be set on a copy of a slice from a DataFrame.\n",
            "Try using .loc[row_indexer,col_indexer] = value instead\n",
            "\n",
            "See the caveats in the documentation: https://pandas.pydata.org/pandas-docs/stable/user_guide/indexing.html#returning-a-view-versus-a-copy\n",
            "  suggestions_df[\"Original\"] = name\n"
          ]
        }
      ]
    },
    {
      "cell_type": "code",
      "source": [
        "# using Nysiis algorithm\n",
        "nysiis_suggestions = nAIme.get_suggestion.nysiis(name)\n",
        "print(nysiis_suggestions)"
      ],
      "metadata": {
        "id": "txxDV8y4YWYQ",
        "colab": {
          "base_uri": "https://localhost:8080/"
        },
        "outputId": "9a720312-1a82-4969-e536-2bd18d91e287"
      },
      "execution_count": null,
      "outputs": [
        {
          "output_type": "stream",
          "name": "stdout",
          "text": [
            "['Jaemes', 'Jaimes', 'Jame', 'Jamea', 'Jameas', 'Jamess', 'Jamis', 'Jams', 'Janes', 'Jeames']\n"
          ]
        },
        {
          "output_type": "stream",
          "name": "stderr",
          "text": [
            "/usr/local/lib/python3.7/dist-packages/nAIme/Phonetic/phonetic_suggestion.py:22: SettingWithCopyWarning: \n",
            "A value is trying to be set on a copy of a slice from a DataFrame.\n",
            "Try using .loc[row_indexer,col_indexer] = value instead\n",
            "\n",
            "See the caveats in the documentation: https://pandas.pydata.org/pandas-docs/stable/user_guide/indexing.html#returning-a-view-versus-a-copy\n",
            "  suggestions_df[\"Original\"] = name\n"
          ]
        }
      ]
    },
    {
      "cell_type": "code",
      "source": [
        "# using Match Rating Codex algorithm\n",
        "match_rating_codex_suggestions = nAIme.get_suggestion.match_rating_codex(name)\n",
        "print(match_rating_codex_suggestions)"
      ],
      "metadata": {
        "id": "--jHt8unYbIe",
        "colab": {
          "base_uri": "https://localhost:8080/"
        },
        "outputId": "8a5e5899-ce3f-4f9e-97cd-aaee0aceb8ec"
      },
      "execution_count": null,
      "outputs": [
        {
          "output_type": "stream",
          "name": "stdout",
          "text": [
            "['Jaemes', 'Jaimes', 'Jameas', 'Jamis', 'Jams', 'Jeames', 'Jemes', 'Jimes', 'Jmes', 'Jaems']\n"
          ]
        },
        {
          "output_type": "stream",
          "name": "stderr",
          "text": [
            "/usr/local/lib/python3.7/dist-packages/nAIme/Phonetic/phonetic_suggestion.py:22: SettingWithCopyWarning: \n",
            "A value is trying to be set on a copy of a slice from a DataFrame.\n",
            "Try using .loc[row_indexer,col_indexer] = value instead\n",
            "\n",
            "See the caveats in the documentation: https://pandas.pydata.org/pandas-docs/stable/user_guide/indexing.html#returning-a-view-versus-a-copy\n",
            "  suggestions_df[\"Original\"] = name\n"
          ]
        }
      ]
    },
    {
      "cell_type": "code",
      "source": [
        "# using Metaphone algorithm\n",
        "metaphone_suggestions = nAIme.get_suggestion.metaphone(name)\n",
        "print(metaphone_suggestions)"
      ],
      "metadata": {
        "id": "HRvuZ_upY0I7",
        "colab": {
          "base_uri": "https://localhost:8080/"
        },
        "outputId": "9ad0bfe1-e57e-4867-cdd1-a17d7c79d790"
      },
      "execution_count": null,
      "outputs": [
        {
          "output_type": "stream",
          "name": "stdout",
          "text": [
            "['Jaemes', 'Jaimes', 'Jameas', 'Jamess', 'Jamesy', 'Jamis', 'Jams', 'Jeames', 'Jemes', 'Jimes']\n"
          ]
        },
        {
          "output_type": "stream",
          "name": "stderr",
          "text": [
            "/usr/local/lib/python3.7/dist-packages/nAIme/Phonetic/phonetic_suggestion.py:22: SettingWithCopyWarning: \n",
            "A value is trying to be set on a copy of a slice from a DataFrame.\n",
            "Try using .loc[row_indexer,col_indexer] = value instead\n",
            "\n",
            "See the caveats in the documentation: https://pandas.pydata.org/pandas-docs/stable/user_guide/indexing.html#returning-a-view-versus-a-copy\n",
            "  suggestions_df[\"Original\"] = name\n"
          ]
        }
      ]
    }
  ]
}